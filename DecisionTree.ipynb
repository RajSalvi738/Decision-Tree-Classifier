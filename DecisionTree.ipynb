{
 "cells": [
  {
   "cell_type": "code",
   "execution_count": 1,
   "metadata": {},
   "outputs": [],
   "source": [
    "import pandas as pd\n",
    "import math"
   ]
  },
  {
   "cell_type": "code",
   "execution_count": 2,
   "metadata": {},
   "outputs": [
    {
     "data": {
      "text/html": [
       "<div>\n",
       "<style scoped>\n",
       "    .dataframe tbody tr th:only-of-type {\n",
       "        vertical-align: middle;\n",
       "    }\n",
       "\n",
       "    .dataframe tbody tr th {\n",
       "        vertical-align: top;\n",
       "    }\n",
       "\n",
       "    .dataframe thead th {\n",
       "        text-align: right;\n",
       "    }\n",
       "</style>\n",
       "<table border=\"1\" class=\"dataframe\">\n",
       "  <thead>\n",
       "    <tr style=\"text-align: right;\">\n",
       "      <th></th>\n",
       "      <th>Age</th>\n",
       "      <th>Income</th>\n",
       "      <th>Student</th>\n",
       "      <th>Credit_Rating</th>\n",
       "      <th>Buys Computer</th>\n",
       "    </tr>\n",
       "  </thead>\n",
       "  <tbody>\n",
       "    <tr>\n",
       "      <th>0</th>\n",
       "      <td>&lt;=30</td>\n",
       "      <td>high</td>\n",
       "      <td>no</td>\n",
       "      <td>fair</td>\n",
       "      <td>no</td>\n",
       "    </tr>\n",
       "    <tr>\n",
       "      <th>1</th>\n",
       "      <td>&lt;=30</td>\n",
       "      <td>high</td>\n",
       "      <td>no</td>\n",
       "      <td>excellent</td>\n",
       "      <td>no</td>\n",
       "    </tr>\n",
       "    <tr>\n",
       "      <th>2</th>\n",
       "      <td>31?40</td>\n",
       "      <td>high</td>\n",
       "      <td>no</td>\n",
       "      <td>fair</td>\n",
       "      <td>yes</td>\n",
       "    </tr>\n",
       "    <tr>\n",
       "      <th>3</th>\n",
       "      <td>&gt;40</td>\n",
       "      <td>medium</td>\n",
       "      <td>no</td>\n",
       "      <td>fair</td>\n",
       "      <td>yes</td>\n",
       "    </tr>\n",
       "    <tr>\n",
       "      <th>4</th>\n",
       "      <td>&gt;40</td>\n",
       "      <td>low</td>\n",
       "      <td>yes</td>\n",
       "      <td>fair</td>\n",
       "      <td>yes</td>\n",
       "    </tr>\n",
       "  </tbody>\n",
       "</table>\n",
       "</div>"
      ],
      "text/plain": [
       "     Age  Income Student Credit_Rating Buys Computer\n",
       "0   <=30    high      no          fair            no\n",
       "1   <=30    high      no     excellent            no\n",
       "2  31?40    high      no          fair           yes\n",
       "3    >40  medium      no          fair           yes\n",
       "4    >40     low     yes          fair           yes"
      ]
     },
     "execution_count": 2,
     "metadata": {},
     "output_type": "execute_result"
    }
   ],
   "source": [
    "dataset = pd.read_csv('income.csv')\n",
    "dataset.head()"
   ]
  },
  {
   "cell_type": "code",
   "execution_count": 3,
   "metadata": {},
   "outputs": [
    {
     "name": "stdout",
     "output_type": "stream",
     "text": [
      "['Age', 'Income', 'Student', 'Credit_Rating', 'Buys Computer']\n"
     ]
    }
   ],
   "source": [
    "columns = list(dataset.columns)\n",
    "print(columns)"
   ]
  },
  {
   "cell_type": "code",
   "execution_count": 4,
   "metadata": {},
   "outputs": [
    {
     "name": "stdout",
     "output_type": "stream",
     "text": [
      "5\n",
      "9\n",
      "[0.35714285714285715, 0.6428571428571429]\n"
     ]
    }
   ],
   "source": [
    "output_column = list(dataset[columns[-1]])\n",
    "output_classes = list(dataset[columns[-1]].unique())\n",
    "prob_output_classes = []\n",
    "\n",
    "for output_class in output_classes:\n",
    "    count = output_column.count(output_class)\n",
    "    print(count)\n",
    "    prob_output_class = count/len(output_column)\n",
    "    prob_output_classes.append(prob_output_class)\n",
    "\n",
    "print(prob_output_classes)"
   ]
  },
  {
   "cell_type": "code",
   "execution_count": 5,
   "metadata": {},
   "outputs": [],
   "source": [
    "def entropy(prob_of_classes):\n",
    "    H = 0\n",
    "    for prob_of_class in prob_of_classes:\n",
    "        #print(prob_of_class)\n",
    "        if prob_of_class != 0:   \n",
    "            H += (prob_of_class * math.log10(1/prob_of_class))\n",
    "        else:\n",
    "            H += 0\n",
    "    return H"
   ]
  },
  {
   "cell_type": "code",
   "execution_count": 6,
   "metadata": {},
   "outputs": [
    {
     "name": "stdout",
     "output_type": "stream",
     "text": [
      "0.28305427806152245\n"
     ]
    }
   ],
   "source": [
    "entropy_output_class = entropy(prob_output_classes)\n",
    "print(entropy_output_class)"
   ]
  },
  {
   "cell_type": "code",
   "execution_count": 7,
   "metadata": {},
   "outputs": [
    {
     "name": "stdout",
     "output_type": "stream",
     "text": [
      "['Age', 'Income', 'Student', 'Credit_Rating']\n"
     ]
    }
   ],
   "source": [
    "columns.pop()\n",
    "print(columns)"
   ]
  },
  {
   "cell_type": "code",
   "execution_count": 8,
   "metadata": {},
   "outputs": [
    {
     "name": "stdout",
     "output_type": "stream",
     "text": [
      "[[5, 4, 5], [4, 6, 4], [7, 7], [8, 6]]\n",
      "[[0.35714285714285715, 0.2857142857142857, 0.35714285714285715], [0.2857142857142857, 0.42857142857142855, 0.2857142857142857], [0.5, 0.5], [0.5714285714285714, 0.42857142857142855]]\n"
     ]
    }
   ],
   "source": [
    "prob_input_classes = []\n",
    "count_of_subclasses = []\n",
    "for column in columns:\n",
    "    prob_input_subclasses = []\n",
    "    count_of_subclass = []\n",
    "    input_column = list(dataset[column])\n",
    "    input_column_subclasses = list(dataset[column].unique())\n",
    "    \n",
    "    for input_column_subclass in input_column_subclasses:\n",
    "        count = input_column.count(input_column_subclass)\n",
    "        count_of_subclass.append(count)\n",
    "        prob_input_class = count/len(input_column)\n",
    "        prob_input_subclasses.append(prob_input_class)\n",
    "        \n",
    "    count_of_subclasses.append(count_of_subclass)\n",
    "    prob_input_classes.append(prob_input_subclasses)\n",
    "\n",
    "print(count_of_subclasses)\n",
    "print(prob_input_classes)"
   ]
  },
  {
   "cell_type": "code",
   "execution_count": 9,
   "metadata": {},
   "outputs": [
    {
     "name": "stdout",
     "output_type": "stream",
     "text": [
      "[['<=30', '31?40', '>40'], ['high', 'medium', 'low'], ['no', 'yes'], ['fair', 'excellent']]\n"
     ]
    }
   ],
   "source": [
    "input_classes = []\n",
    "for column in columns:\n",
    "    sub_class = list(dataset[column].unique())\n",
    "    input_classes.append(sub_class)\n",
    "    \n",
    "print(input_classes)"
   ]
  },
  {
   "cell_type": "code",
   "execution_count": 10,
   "metadata": {},
   "outputs": [],
   "source": [
    "def get_prob(column, input_class):\n",
    "    input_subclass_count = []\n",
    "    for input_subclass in input_class:\n",
    "        #print(input_subclass)\n",
    "        subclass_count = []\n",
    "        for output_class in output_classes:\n",
    "            subclass_output_count = 0\n",
    "            for row in dataset.values:\n",
    "                #print(row)\n",
    "                column_index = columns.index(column)\n",
    "                if row[column_index] == input_subclass and row[-1] == output_class:\n",
    "                    subclass_output_count = subclass_output_count + 1\n",
    "            subclass_count.append(subclass_output_count)\n",
    "        input_subclass_count.append(subclass_count)\n",
    "            \n",
    "    return input_subclass_count"
   ]
  },
  {
   "cell_type": "code",
   "execution_count": 11,
   "metadata": {},
   "outputs": [
    {
     "name": "stdout",
     "output_type": "stream",
     "text": [
      "[[[3, 2], [0, 4], [2, 3]], [[2, 2], [2, 4], [1, 3]], [[4, 3], [1, 6]], [[2, 6], [3, 3]]]\n"
     ]
    }
   ],
   "source": [
    "iteration_param = 0\n",
    "count_output_subclasses = []\n",
    "while(iteration_param < len(columns)):\n",
    "    input_subclass_count = get_prob(columns[iteration_param], input_classes[iteration_param])\n",
    "    count_output_subclasses.append(input_subclass_count)\n",
    "    iteration_param += 1\n",
    "    \n",
    "print(count_output_subclasses)"
   ]
  },
  {
   "cell_type": "code",
   "execution_count": 12,
   "metadata": {},
   "outputs": [
    {
     "name": "stdout",
     "output_type": "stream",
     "text": [
      "[[[0.6, 0.4], [0.0, 1.0], [0.4, 0.6]], [[0.5, 0.5], [0.3333333333333333, 0.6666666666666666], [0.25, 0.75]], [[0.5714285714285714, 0.42857142857142855], [0.14285714285714285, 0.8571428571428571]], [[0.25, 0.75], [0.5, 0.5]]]\n"
     ]
    }
   ],
   "source": [
    "index_col = 0\n",
    "prob_subclasses = []\n",
    "\n",
    "while(index_col < len(count_of_subclasses)):\n",
    "    prob_output_subclasses = []\n",
    "    no_of_subclass = 0\n",
    "    count_of_subclass = count_of_subclasses[index_col]\n",
    "    output_subclass_count = count_output_subclasses[index_col]\n",
    "    while(no_of_subclass < len(count_of_subclass)):\n",
    "        prob_output_subclass = []\n",
    "        count = count_of_subclass[no_of_subclass]\n",
    "        subclasses_count = output_subclass_count[no_of_subclass]\n",
    "        for subclass_count in subclasses_count:\n",
    "            prob_output_subclass.append(subclass_count/count)\n",
    "        no_of_subclass += 1\n",
    "        prob_output_subclasses.append(prob_output_subclass)\n",
    "    prob_subclasses.append(prob_output_subclasses)\n",
    "    index_col += 1\n",
    "    \n",
    "print(prob_subclasses)"
   ]
  },
  {
   "cell_type": "code",
   "execution_count": 13,
   "metadata": {},
   "outputs": [
    {
     "name": "stdout",
     "output_type": "stream",
     "text": [
      "[[0.29228525323862886, 0.0, 0.29228525323862886], [0.3010299956639812, 0.27643459094367495, 0.24421905028821556], [0.296583221518423, 0.17811125397113373], [0.24421905028821556, 0.3010299956639812]]\n"
     ]
    }
   ],
   "source": [
    "entropy_subclasses = []\n",
    "for prob_subclass in prob_subclasses:\n",
    "    entropy_subclass = []\n",
    "    for prob in prob_subclass:\n",
    "        H = entropy(prob)\n",
    "        entropy_subclass.append(H)\n",
    "    entropy_subclasses.append(entropy_subclass)\n",
    "    \n",
    "        \n",
    "print(entropy_subclasses)"
   ]
  },
  {
   "cell_type": "code",
   "execution_count": 37,
   "metadata": {},
   "outputs": [],
   "source": [
    "def information_gain(entropy_subclasses):\n",
    "    no_of_subclasses = 0\n",
    "    gain_list = []\n",
    "    while(no_of_subclasses < len(entropy_subclasses)):\n",
    "        sum_entropy_prob = 0\n",
    "        entropy_subclass = entropy_subclasses[no_of_subclasses]\n",
    "        prob_subclass = prob_input_classes[no_of_subclasses]\n",
    "        no_subclass_subclasses = 0\n",
    "        while(no_subclass_subclasses < len(entropy_subclass)):\n",
    "            sum_entropy_prob += (entropy_subclass[no_subclass_subclasses] * prob_subclass[no_subclass_subclasses])\n",
    "            no_subclass_subclasses += 1\n",
    "        #print(sum_entropy_prob)\n",
    "        G = entropy_output_class - sum_entropy_prob\n",
    "        gain_list.append(G)\n",
    "        no_of_subclasses += 1\n",
    "    return gain_list"
   ]
  },
  {
   "cell_type": "code",
   "execution_count": 46,
   "metadata": {},
   "outputs": [
    {
     "name": "stdout",
     "output_type": "stream",
     "text": [
      "[0.07427909717678755, 0.008796868813605585, 0.04570704031674411, 0.014487679755121607]\n"
     ]
    }
   ],
   "source": [
    "gain_list = information_gain(entropy_subclasses)\n",
    "print(gain_list)"
   ]
  },
  {
   "cell_type": "code",
   "execution_count": 50,
   "metadata": {},
   "outputs": [
    {
     "name": "stdout",
     "output_type": "stream",
     "text": [
      "Maximum Information Gain:  0.07427909717678755 \n",
      "First Splitting Attribute is: Age\n"
     ]
    }
   ],
   "source": [
    "max_gain_value = max(gain_list)\n",
    "max_gain_col_index = gain_list.index(max_gain_value)\n",
    "\n",
    "print( \"Maximum Information Gain: \",max_gain_value, \"\\nFirst Splitting Attribute is: \"+columns[max_gain_col_index])"
   ]
  },
  {
   "cell_type": "code",
   "execution_count": null,
   "metadata": {},
   "outputs": [],
   "source": []
  }
 ],
 "metadata": {
  "kernelspec": {
   "display_name": "Python 3",
   "language": "python",
   "name": "python3"
  },
  "language_info": {
   "codemirror_mode": {
    "name": "ipython",
    "version": 3
   },
   "file_extension": ".py",
   "mimetype": "text/x-python",
   "name": "python",
   "nbconvert_exporter": "python",
   "pygments_lexer": "ipython3",
   "version": "3.7.4"
  }
 },
 "nbformat": 4,
 "nbformat_minor": 2
}
